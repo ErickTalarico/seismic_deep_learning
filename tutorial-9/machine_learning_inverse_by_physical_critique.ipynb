{
 "cells": [
  {
   "cell_type": "code",
   "execution_count": 1,
   "metadata": {},
   "outputs": [],
   "source": [
    "import torch\n",
    "from torch import nn\n",
    "import numpy as np\n",
    "import matplotlib.pyplot as plt\n",
    "from sklearn.preprocessing import StandardScaler"
   ]
  },
  {
   "cell_type": "code",
   "execution_count": 2,
   "metadata": {},
   "outputs": [],
   "source": [
    "class MyScaler(nn.Module):\n",
    "    def __init__(self):\n",
    "        super(MyScaler, self).__init__()\n",
    "        \n",
    "        self.mean_ = nn.Parameter(torch.zeros(1), requires_grad = False)\n",
    "        self.scale_ = nn.Parameter(torch.ones(1), requires_grad = False)\n",
    "    def fit(self, x):\n",
    "        self.mean_.data = x.mean(0)\n",
    "        self.scale_.data = x.std(0)\n",
    "        return self\n",
    "    def transform(self, x):\n",
    "        return (x - self.mean_) / self.scale_"
   ]
  },
  {
   "cell_type": "code",
   "execution_count": 66,
   "metadata": {},
   "outputs": [],
   "source": [
    "forward_model = lambda x: x**3 + 1e-3*x**5\n",
    "# forward_model = torch.exp\n",
    "\n",
    "inverse_model = nn.Sequential(nn.Linear(1, 4),\n",
    "                              nn.LeakyReLU(),\n",
    "                              nn.Linear(4, 4),\n",
    "                              nn.LeakyReLU(),\n",
    "                              nn.Linear(4, 4),\n",
    "                              nn.LeakyReLU(),\n",
    "                              nn.Linear(4, 1),\n",
    "                              nn.LeakyReLU())"
   ]
  },
  {
   "cell_type": "code",
   "execution_count": 67,
   "metadata": {},
   "outputs": [],
   "source": [
    "N = 100\n",
    "nr_epochs = 10000\n",
    "nr_prints = 10\n",
    "lr = 1e-2\n",
    "lambda_ = 0"
   ]
  },
  {
   "cell_type": "code",
   "execution_count": 68,
   "metadata": {},
   "outputs": [
    {
     "name": "stdout",
     "output_type": "stream",
     "text": [
      "iter:          0\t loss_x =  0.0001721439\t loss_y =  5.0077371597\n",
      "iter:       1000\t loss_x =  0.0254630074\t loss_y =  2.6760282516\n",
      "iter:       2000\t loss_x =  0.0065676169\t loss_y =  0.0272472948\n",
      "iter:       3000\t loss_x =  0.0058779698\t loss_y =  0.0216586180\n",
      "iter:       4000\t loss_x =  0.0066349586\t loss_y =  0.0187364575\n",
      "iter:       5000\t loss_x =  0.0026894922\t loss_y =  0.0041223704\n",
      "iter:       6000\t loss_x =  0.0028687282\t loss_y =  0.0034437389\n",
      "iter:       7000\t loss_x =  0.0029669625\t loss_y =  0.0037773962\n",
      "iter:       8000\t loss_x =  0.0030105931\t loss_y =  0.0035972819\n",
      "iter:       9000\t loss_x =  0.0030015728\t loss_y =  0.0035475483\n"
     ]
    }
   ],
   "source": [
    "x = torch.randn(N).view(-1, 1)\n",
    "y = forward_model(x)\n",
    "\n",
    "scaler = MyScaler()\n",
    "scaler.fit(y)\n",
    "y_norm = torch.Tensor(scaler.transform(y))\n",
    "\n",
    "loss = nn.MSELoss()\n",
    "optim = torch.optim.Adam(inverse_model.parameters(), lr=lr)\n",
    "\n",
    "l_loss_x = []\n",
    "l_loss_y = []\n",
    "for i in range(nr_epochs):\n",
    "    optim.zero_grad()\n",
    "    x_inv = inverse_model(y_norm)\n",
    "    y_pred = forward_model(x_inv)\n",
    "    y_pred_norm = scaler.transform(y_pred)\n",
    "    x_inv_2 = inverse_model(y_pred_norm)\n",
    "    loss_x = loss(x_inv, x_inv_2)\n",
    "    loss_y = loss(y_pred, y)\n",
    "    MSE = loss_y + lambda_*loss_x\n",
    "    MSE.backward()\n",
    "    optim.step()\n",
    "    l_loss_x.append(loss_x.detach())\n",
    "    l_loss_y.append(loss_y.detach())\n",
    "    if i % int(nr_epochs/nr_prints) == 0:\n",
    "        print(f'iter: {i:10d}\\t loss_x = {loss_x: .10f}\\t loss_y = {loss_y: .10f}')"
   ]
  },
  {
   "cell_type": "code",
   "execution_count": 69,
   "metadata": {},
   "outputs": [
    {
     "data": {
      "image/png": "[encoded data removed]",
      "text/plain": [
       "<Figure size 432x288 with 1 Axes>"
      ]
     },
     "metadata": {
      "needs_background": "light"
     },
     "output_type": "display_data"
    }
   ],
   "source": [
    "plt.figure()\n",
    "x_np = x.cpu().numpy()\n",
    "x_bins = np.linspace(np.percentile(x_np, 1), np.percentile(x_np, 99))\n",
    "y_bins = forward_model(torch.Tensor(x_bins).view(-1, 1))\n",
    "y_bins_norm = scaler.transform(y_bins)\n",
    "x_inv = inverse_model(y_bins_norm).cpu().detach().numpy()\n",
    "plt.plot(y_bins, x_bins, 'o', label = 'measured')\n",
    "plt.plot(y_bins, x_inv, 'o', label = 'inverse')\n",
    "plt.legend()\n",
    "plt.grid()"
   ]
  },
  {
   "cell_type": "code",
   "execution_count": 71,
   "metadata": {},
   "outputs": [
    {
     "data": {
      "image/png": "[encoded data removed]",
      "text/plain": [
       "<Figure size 432x288 with 1 Axes>"
      ]
     },
     "metadata": {
      "needs_background": "light"
     },
     "output_type": "display_data"
    }
   ],
   "source": [
    "plt.figure()\n",
    "forget_first = 2000\n",
    "epochs = np.arange(nr_epochs)\n",
    "plt.plot(epochs[forget_first:], l_loss_x[forget_first:], label = 'loss_x')\n",
    "plt.plot(epochs[forget_first:], l_loss_y[forget_first:], label = 'loss_y')\n",
    "plt.legend()\n",
    "plt.grid(True)"
   ]
  },
  {
   "cell_type": "code",
   "execution_count": null,
   "metadata": {},
   "outputs": [],
   "source": []
  }
 ],
 "metadata": {
  "kernelspec": {
   "display_name": "Python 3",
   "language": "python",
   "name": "python3"
  },
  "language_info": {
   "codemirror_mode": {
    "name": "ipython",
    "version": 3
   },
   "file_extension": ".py",
   "mimetype": "text/x-python",
   "name": "python",
   "nbconvert_exporter": "python",
   "pygments_lexer": "ipython3",
   "version": "3.8.3"
  }
 },
 "nbformat": 4,
 "nbformat_minor": 4
}
